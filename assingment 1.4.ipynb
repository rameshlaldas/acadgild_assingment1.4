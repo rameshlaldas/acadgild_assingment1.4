{
 "cells": [
  {
   "cell_type": "code",
   "execution_count": 2,
   "metadata": {},
   "outputs": [
    {
     "name": "stdout",
     "output_type": "stream",
     "text": [
      "Volume of sphere with diameter=12 is  904.608\n"
     ]
    }
   ],
   "source": [
    "##(((((assingment1.4))))Write a Python program to find the volume of a sphere with diameter 12 cm. Formula: V=4/3 * π * r^3\n",
    "dia=12\n",
    "pi=3.141\n",
    "r=dia/2\n",
    "vol_sphere=4.0/3.0*pi*r**3\n",
    "print(\"Volume of sphere with diameter=12 is \",vol_sphere)"
   ]
  },
  {
   "cell_type": "code",
   "execution_count": null,
   "metadata": {},
   "outputs": [],
   "source": []
  }
 ],
 "metadata": {
  "kernelspec": {
   "display_name": "Python 3",
   "language": "python",
   "name": "python3"
  },
  "language_info": {
   "codemirror_mode": {
    "name": "ipython",
    "version": 3
   },
   "file_extension": ".py",
   "mimetype": "text/x-python",
   "name": "python",
   "nbconvert_exporter": "python",
   "pygments_lexer": "ipython3",
   "version": "3.6.4"
  }
 },
 "nbformat": 4,
 "nbformat_minor": 2
}
